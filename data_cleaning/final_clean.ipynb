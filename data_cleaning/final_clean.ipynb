{
 "cells": [
  {
   "cell_type": "code",
   "execution_count": 2,
   "metadata": {},
   "outputs": [],
   "source": [
    "import numpy as np\n",
    "import re\n",
    "import pandas as pd\n",
    "from datetime import datetime as dt, timedelta"
   ]
  },
  {
   "cell_type": "code",
   "execution_count": 3,
   "metadata": {},
   "outputs": [],
   "source": [
    "#Read in collected/wrangled data \n",
    "geo_codes = pd.read_csv('_Addresses_with_Geocodes.csv')\n",
    "df = pd.read_csv('_ARLCimeFinal.csv', encoding='latin-1')"
   ]
  },
  {
   "cell_type": "code",
   "execution_count": 4,
   "metadata": {},
   "outputs": [],
   "source": [
    "#Merge data and apply crime category labels \n",
    "df2 = df.merge(geo_codes[['Address', 'Latitude', 'Longitude']], how='left', left_on='Address_FINAL', right_on='Address')\n",
    "\n",
    "df2 = df2[df2['CategoryCode']!= 0]\n",
    "\n",
    "df2['Crime_Category'] = np.select([(df2['CategoryCode'] == 1),\n",
    "                            (df2['CategoryCode'] == 2),\n",
    "                            (df2['CategoryCode'] == 3)],\n",
    "                            \n",
    "                            ['Crimes Against Person', \n",
    "                             'Crimes Against Property', \n",
    "                             'Crimes Against Society'], \n",
    "                             \n",
    "                             default=np.nan)"
   ]
  },
  {
   "cell_type": "code",
   "execution_count": 5,
   "metadata": {},
   "outputs": [],
   "source": [
    "#Drop NAs from merge\n",
    "df3 = df2.dropna()\n",
    "\n",
    "#Filter out odd addresses/incident dates \n",
    "df4 = df3.copy()\n",
    "df4['IncidentDate'] = df4['IncidentDate'].astype('str')\n",
    "df4 = df4[~df4['IncidentDate'].str.contains(r'[A-Za-z]')]\n",
    "\n",
    "#Convert initial dtypes\n",
    "df5 = df4.copy()\n",
    "\n",
    "df5['date_reported'] = pd.to_datetime(df5['date_reported'])\n",
    "df5['date_reported'] = df5['date_reported'].dt.strftime('%Y-%m%d')\n",
    "\n",
    "df5[\"IncidentMonth\"] = df5[\"IncidentMonth\"].astype('int')"
   ]
  },
  {
   "cell_type": "code",
   "execution_count": 6,
   "metadata": {},
   "outputs": [],
   "source": [
    "#Clean for incident date (account for incorrect input data from Arlington County)\n",
    "df5['idate2'] = df5['IncidentDate'].astype('str')\n",
    "df5['idate2'] = np.where(df5['IncidentDate'].str.isnumeric() == True, '0', df5['IncidentDate'])\n",
    "\n",
    "df5['rough_day'] = df5['idate2'].str[-2:].astype('int')\n",
    "df5['idate3'] = np.where((df5['rough_day'] > 31) | (df5['rough_day'] <= 0), '0', df5['idate2'])\n",
    "df5['idate4'] = np.where((df5['IncidentMonth'].isin([4, 6, 9, 11])) & (df5['rough_day'] > 30), '0', df5['idate3'])\n",
    "\n",
    "\n",
    "df5['idate5'] = np.where((df5[\"IncidentMonth\"] == 2) & (df5[\"rough_day\"] > 29), '0', df5['idate4'])\n",
    "\n",
    "df5['idate6'] = np.where((df5['IncidentMonth'] > 12) | (df5['IncidentMonth'] < 1), '0', df5['idate5'])\n",
    "df5['idate7'] = np.where (df5['idate6'].str.contains(r'^\\d{3}-', regex=True), '0', df5['idate6'])\n",
    "\n",
    "df5['idate8'] = np.where ((~df5['idate7'].str.contains(r'^\\d{4}-\\d{2}\\d{2}$', regex=True)), '0', df5['idate7'])\n",
    "\n",
    "df5['test_date'] = np.where(df5['idate8'] == '0', df5['date_reported'], df5['idate8'])"
   ]
  },
  {
   "cell_type": "code",
   "execution_count": 7,
   "metadata": {},
   "outputs": [],
   "source": [
    "#Create final copy with incident date in tact and make final dtype adjustments\n",
    "final_df = df5.copy()\n",
    "\n",
    "final_df = final_df[['id', 'date_reported', 'details', 'CRIME_FINAL', 'Incident_FINAL',\n",
    "       'Address_FINAL', 'ZIP_Code', 'CategoryCode', 'Address', 'Latitude', 'Longitude',\n",
    "       'Crime_Category', 'test_date']].rename(columns={'test_date':'incident_date'})\n",
    "\n",
    "final_df['incident_date'] = pd.to_datetime(final_df['incident_date'], format='%Y-%m%d')\n",
    "final_df['date_reported'] = pd.to_datetime(final_df['date_reported'], format='%Y-%m%d')\n",
    "\n",
    "#Cut off incorrect dates\n",
    "final_df = final_df[final_df['incident_date']>='2016-01-01']"
   ]
  },
  {
   "cell_type": "code",
   "execution_count": 11,
   "metadata": {},
   "outputs": [],
   "source": [
    "final_df['date_reported'] = pd.to_datetime(final_df['date_reported'])\n",
    "final_df['incident_date'] = pd.to_datetime(final_df['incident_date'])\n",
    "final_df['ZIP_Code'] = final_df['ZIP_Code'].astype('int').astype('str')\n",
    "\n",
    "final_df['monthname'] = final_df['incident_date'].dt.month_name()\n",
    "final_df['month_num'] = final_df['incident_date'].dt.month\n",
    "final_df['year'] =final_df['incident_date'].dt.year\n",
    "final_df['yearmonth'] = final_df['monthname'] + '-' + final_df['year'].astype('str')\n",
    "\n",
    "final_df['dow_num'] = final_df['incident_date'].dt.dayofweek\n",
    "final_df['dow'] = np.select([(final_df['dow_num'] == 0),\n",
    "                             (final_df['dow_num'] == 1),\n",
    "                             (final_df['dow_num'] == 2),\n",
    "                             (final_df['dow_num'] == 3),\n",
    "                             (final_df['dow_num'] == 4),\n",
    "                             (final_df['dow_num'] == 5),\n",
    "                             (final_df['dow_num'] == 6)], \n",
    "\n",
    "                             ['Monday', 'Tuesday', 'Wednesday', \n",
    "                              'Thursday', 'Friday', 'Saturday', 'Sunday'], \n",
    "\n",
    "                              default=np.nan)"
   ]
  },
  {
   "cell_type": "code",
   "execution_count": 12,
   "metadata": {},
   "outputs": [
    {
     "data": {
      "text/plain": [
       "id                         int64\n",
       "date_reported     datetime64[ns]\n",
       "details                   object\n",
       "CRIME_FINAL               object\n",
       "Incident_FINAL            object\n",
       "Address_FINAL             object\n",
       "ZIP_Code                  object\n",
       "CategoryCode               int64\n",
       "Address                   object\n",
       "Latitude                 float64\n",
       "Longitude                float64\n",
       "Crime_Category            object\n",
       "incident_date     datetime64[ns]\n",
       "monthname                 object\n",
       "month_num                  int64\n",
       "year                       int64\n",
       "yearmonth                 object\n",
       "dow_num                    int64\n",
       "dow                       object\n",
       "dtype: object"
      ]
     },
     "execution_count": 12,
     "metadata": {},
     "output_type": "execute_result"
    }
   ],
   "source": [
    "final_df.dtypes"
   ]
  },
  {
   "cell_type": "code",
   "execution_count": 13,
   "metadata": {},
   "outputs": [],
   "source": [
    "final_df.to_csv('final_data.csv', index=False)"
   ]
  },
  {
   "cell_type": "code",
   "execution_count": null,
   "metadata": {},
   "outputs": [],
   "source": []
  }
 ],
 "metadata": {
  "kernelspec": {
   "display_name": "conda_ml",
   "language": "python",
   "name": "conda_ml"
  },
  "language_info": {
   "codemirror_mode": {
    "name": "ipython",
    "version": 3
   },
   "file_extension": ".py",
   "mimetype": "text/x-python",
   "name": "python",
   "nbconvert_exporter": "python",
   "pygments_lexer": "ipython3",
   "version": "3.10.11"
  }
 },
 "nbformat": 4,
 "nbformat_minor": 2
}
