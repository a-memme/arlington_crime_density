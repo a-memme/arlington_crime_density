{
 "cells": [
  {
   "cell_type": "code",
   "execution_count": 9,
   "id": "be71880d",
   "metadata": {},
   "outputs": [
    {
     "name": "stderr",
     "output_type": "stream",
     "text": [
      "100%|██████████████████████████████████████████████████████████████████████████████████| 25/25 [00:16<00:00,  1.55it/s]\n"
     ]
    }
   ],
   "source": [
    "import pandas as pd\n",
    "from geopy.geocoders import GoogleV3\n",
    "from tqdm import tqdm  # Import tqdm\n",
    "\n",
    "def get_geocode(address):\n",
    "    geolocator = GoogleV3(api_key='')\n",
    "    location = geolocator.geocode(address)\n",
    "    if location:\n",
    "        return location.latitude, location.longitude\n",
    "    else:\n",
    "        return None, None\n",
    "\n",
    "# Read the CSV file into a pandas DataFrame\n",
    "df = pd.read_csv('ADDRESS2.csv')\n",
    "\n",
    "# Create empty lists to store latitude, longitude, and ZIP code\n",
    "latitudes = []\n",
    "longitudes = []\n",
    "zip_codes = []\n",
    "\n",
    "# Initialize the geolocator\n",
    "geolocator = GoogleV3(api_key='')\n",
    "\n",
    "# Use tqdm to add a progress bar\n",
    "for _, row in tqdm(df.iterrows(), total=len(df)):  # tqdm(df.iterrows(), total=len(df)) replaces df.iterrows()\n",
    "    address = f\"{row['Address']}, Arlington, VA\"  # Concatenate \"Arlington, VA\" to the address\n",
    "    # Get latitude and longitude\n",
    "    lat, lon = get_geocode(address)\n",
    "    latitudes.append(lat)\n",
    "    longitudes.append(lon)\n",
    "    # Get ZIP code\n",
    "    zip_code = None\n",
    "    \n",
    "    zip_codes.append(zip_code)\n",
    "\n",
    "# Add latitude, longitude, and ZIP code columns to the DataFrame\n",
    "df['Latitude'] = latitudes\n",
    "df['Longitude'] = longitudes\n",
    "df['ZIP_Code'] = zip_codes\n",
    "\n",
    "# Save the DataFrame to a new CSV file\n",
    "df.to_csv('Addresses2_with_Geocodes2.csv', index=False)\n"
   ]
  },
  {
   "cell_type": "code",
   "execution_count": 8,
   "id": "1aa4cf1a",
   "metadata": {},
   "outputs": [
    {
     "name": "stderr",
     "output_type": "stream",
     "text": [
      "Processing: 100%|████████████████████████████████████████████████████████████████████| 608/608 [00:42<00:00, 14.39it/s]"
     ]
    },
    {
     "name": "stdout",
     "output_type": "stream",
     "text": [
      "CSV with zip codes saved to output3.csv\n"
     ]
    },
    {
     "name": "stderr",
     "output_type": "stream",
     "text": [
      "\n"
     ]
    }
   ],
   "source": [
    "import requests\n",
    "from concurrent.futures import ThreadPoolExecutor\n",
    "\n",
    "def get_zipcode(latitude_longitude):\n",
    "    latitude, longitude = latitude_longitude\n",
    "    api_key = ''  # Replace with your actual API key\n",
    "    url = f'https://maps.googleapis.com/maps/api/geocode/json?latlng={latitude},{longitude}&key={api_key}'\n",
    "    response = requests.get(url)\n",
    "    data = response.json()\n",
    "    \n",
    "    if data['status'] == 'OK':\n",
    "        for result in data['results']:\n",
    "            for component in result['address_components']:\n",
    "                if 'postal_code' in component['types']:\n",
    "                    return component['long_name']\n",
    "    else:\n",
    "        print('Error:', data['status'])\n",
    "        return None\n",
    "\n",
    "def add_zipcode(df):\n",
    "    latitude_longitude_list = [(row['latitude'], row['longitude']) for index, row in df.iterrows()]\n",
    "    with ThreadPoolExecutor() as executor:\n",
    "        zipcodes = list(tqdm(executor.map(get_zipcode, latitude_longitude_list), total=len(latitude_longitude_list), desc=\"Processing\"))\n",
    "    df['zipcode'] = zipcodes\n",
    "    return df\n",
    "\n",
    "# Read CSV file containing latitude and longitude\n",
    "input_csv_file = 'input.txt'\n",
    "df = pd.read_csv(input_csv_file)\n",
    "\n",
    "# Add zip codes to the dataframe\n",
    "df_with_zip = add_zipcode(df)\n",
    "\n",
    "# Export dataframe to CSV\n",
    "output_csv_file = 'output.csv'\n",
    "df_with_zip.to_csv(output_csv_file, index=False)\n",
    "\n",
    "print(f'CSV with zip codes saved to {output_csv_file}')\n",
    "\n"
   ]
  }
 ],
 "metadata": {
  "kernelspec": {
   "display_name": "Python 3 (ipykernel)",
   "language": "python",
   "name": "python3"
  },
  "language_info": {
   "codemirror_mode": {
    "name": "ipython",
    "version": 3
   },
   "file_extension": ".py",
   "mimetype": "text/x-python",
   "name": "python",
   "nbconvert_exporter": "python",
   "pygments_lexer": "ipython3",
   "version": "3.11.7"
  }
 },
 "nbformat": 4,
 "nbformat_minor": 5
}
